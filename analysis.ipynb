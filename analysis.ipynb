{
 "cells": [
  {
   "cell_type": "code",
   "execution_count": 1,
   "id": "442158d5",
   "metadata": {},
   "outputs": [],
   "source": [
    "import pandas as pd\n",
    "import numpy as np"
   ]
  },
  {
   "cell_type": "code",
   "execution_count": 2,
   "id": "a51aa333",
   "metadata": {},
   "outputs": [],
   "source": [
    "names = \"Muestra #0,Muestra #1,Muestra #2,Muestra #3,Muestra #4,Muestra #5,Muestra #6,Muestra #7,Muestra #8,Muestra #9,Muestra #10,Muestra #11,Muestra #12,Muestra #13,Muestra #14,Muestra #15,Muestra #16,Muestra #17,Muestra #18,Muestra #19,Muestra #20,Muestra #21,Muestra #22,Muestra #23,Muestra #24,Muestra #25,Muestra #26,Muestra #27,Muestra #28,Muestra #29,Muestra #30,Muestra #31\"\n",
    "values = \"Ambas son equivalentes,A es mucho mejor que B,A es mucho mejor que B,A es mucho mejor que B,Ambas son equivalentes,A es mucho mejor que B,Ambas son equivalentes,Ambas son equivalentes,A es mucho mejor que B,A es mucho mejor que B,Ambas son equivalentes,A es mucho mejor que B,A es mucho mejor que B,Ambas son equivalentes,Ambas son equivalentes,A es mucho mejor que B,Ambas son equivalentes,Ambas son equivalentes,Ambas son equivalentes,Ambas son equivalentes,Ambas son equivalentes,Ambas son equivalentes,Ambas son equivalentes,Ambas son equivalentes,Ambas son equivalentes,Ambas son equivalentes,Ambas son equivalentes,A es mucho mejor que B,Ambas son equivalentes,A es mucho mejor que B,Ambas son equivalentes,A es mucho mejor que B\"\n",
    "\n",
    "names = names.split(',')\n",
    "values = values.split(',')"
   ]
  },
  {
   "cell_type": "code",
   "execution_count": 3,
   "id": "a34e86f3",
   "metadata": {},
   "outputs": [],
   "source": [
    "index = {\n",
    "    \"A es mucho mejor que B\": -2,\n",
    "    \"A es ligeramente mejor que B\": -1,\n",
    "    \"Ambas son equivalentes\": 0,\n",
    "    \"B es ligeramente mejor que A\": 1,\n",
    "    \"B es mucho mejor que A\": 2,\n",
    "}"
   ]
  },
  {
   "cell_type": "code",
   "execution_count": 4,
   "id": "3bdf9cfd",
   "metadata": {},
   "outputs": [],
   "source": [
    "import json\n",
    "with open('D:/Thesis/exp_out/result.json', 'r') as file:\n",
    "    known_values = json.load(file)"
   ]
  },
  {
   "cell_type": "code",
   "execution_count": 5,
   "id": "0f0e38f9",
   "metadata": {},
   "outputs": [
    {
     "name": "stdout",
     "output_type": "stream",
     "text": [
      "Muestra #0  -  Ambas son equivalentes\n",
      "Muestra #1  -  A es mucho mejor que B\n",
      "Muestra #2  -  A es mucho mejor que B\n",
      "Muestra #3  -  A es mucho mejor que B\n",
      "Muestra #4  -  Ambas son equivalentes\n",
      "Muestra #5  -  A es mucho mejor que B\n",
      "Muestra #6  -  Ambas son equivalentes\n",
      "Muestra #7  -  Ambas son equivalentes\n",
      "Muestra #8  -  A es mucho mejor que B\n",
      "Muestra #9  -  A es mucho mejor que B\n",
      "Muestra #10  -  Ambas son equivalentes\n",
      "Muestra #11  -  A es mucho mejor que B\n",
      "Muestra #12  -  A es mucho mejor que B\n",
      "Muestra #13  -  Ambas son equivalentes\n",
      "Muestra #14  -  Ambas son equivalentes\n",
      "Muestra #15  -  A es mucho mejor que B\n",
      "Muestra #16  -  Ambas son equivalentes\n",
      "Muestra #17  -  Ambas son equivalentes\n",
      "Muestra #18  -  Ambas son equivalentes\n",
      "Muestra #19  -  Ambas son equivalentes\n",
      "Muestra #20  -  Ambas son equivalentes\n",
      "Muestra #21  -  Ambas son equivalentes\n",
      "Muestra #22  -  Ambas son equivalentes\n",
      "Muestra #23  -  Ambas son equivalentes\n",
      "Muestra #24  -  Ambas son equivalentes\n",
      "Muestra #25  -  Ambas son equivalentes\n",
      "Muestra #26  -  Ambas son equivalentes\n",
      "Muestra #27  -  A es mucho mejor que B\n",
      "Muestra #28  -  Ambas son equivalentes\n",
      "Muestra #29  -  A es mucho mejor que B\n",
      "Muestra #30  -  Ambas son equivalentes\n",
      "Muestra #31  -  A es mucho mejor que B\n"
     ]
    }
   ],
   "source": [
    "results = {}\n",
    "\n",
    "for name, value in zip(names, values):\n",
    "    print(name, ' - ', value)\n",
    "    for key in known_values:\n",
    "        if key.startswith(f\"{name} - \"):\n",
    "            a = known_values[key]['a']\n",
    "            b = known_values[key]['b']\n",
    "\n",
    "            if index[value] < 0:\n",
    "                results[a] = results.get(a, 0) + 1"
   ]
  },
  {
   "cell_type": "code",
   "execution_count": 6,
   "id": "b0a0e07a",
   "metadata": {},
   "outputs": [
    {
     "data": {
      "text/plain": [
       "{'Threshold Coefficients at 0.1': 9,\n",
       " 'Gaussian Scale Mask with center_scale=N/2, sigma=1.0': 3}"
      ]
     },
     "execution_count": 6,
     "metadata": {},
     "output_type": "execute_result"
    }
   ],
   "source": [
    "results"
   ]
  },
  {
   "cell_type": "code",
   "execution_count": 7,
   "id": "720b3cd3",
   "metadata": {},
   "outputs": [],
   "source": [
    "tie = 18\n",
    "thr_wins = 9\n",
    "gauss_wins = 3\n",
    "total = len(values)"
   ]
  },
  {
   "cell_type": "code",
   "execution_count": 8,
   "id": "7f98a608",
   "metadata": {},
   "outputs": [
    {
     "data": {
      "text/plain": [
       "0.5625"
      ]
     },
     "execution_count": 8,
     "metadata": {},
     "output_type": "execute_result"
    }
   ],
   "source": [
    "tie/total"
   ]
  },
  {
   "cell_type": "code",
   "execution_count": 9,
   "id": "0bdf578f",
   "metadata": {},
   "outputs": [
    {
     "data": {
      "text/plain": [
       "0.28125"
      ]
     },
     "execution_count": 9,
     "metadata": {},
     "output_type": "execute_result"
    }
   ],
   "source": [
    "thr_wins/total"
   ]
  },
  {
   "cell_type": "code",
   "execution_count": 10,
   "id": "f65205ec",
   "metadata": {},
   "outputs": [
    {
     "data": {
      "text/plain": [
       "0.09375"
      ]
     },
     "execution_count": 10,
     "metadata": {},
     "output_type": "execute_result"
    }
   ],
   "source": [
    "gauss_wins/total"
   ]
  },
  {
   "cell_type": "code",
   "execution_count": 12,
   "id": "6603cca3",
   "metadata": {},
   "outputs": [],
   "source": [
    "from scipy.stats import chi2\n",
    "\n",
    "def mcnemar_test(table, correction=True, alpha=0.05):\n",
    "    \"\"\"\n",
    "    Realiza la prueba de McNemar para datos pareados categóricos.\n",
    "\n",
    "    Parámetros:\n",
    "    -----------\n",
    "    table : array-like de 2x2\n",
    "        Tabla de contingencia con las frecuencias observadas:\n",
    "        [[A, B],\n",
    "         [C, D]]\n",
    "        Donde:\n",
    "        - A: Casos donde ambos métodos son positivos (rara vez usado).\n",
    "        - B: Casos donde el Método 1 es positivo y el Método 2 negativo.\n",
    "        - C: Casos donde el Método 1 es negativo y el Método 2 positivo.\n",
    "        - D: Casos donde ambos métodos son negativos.\n",
    "\n",
    "    correction : bool, optional (default=True)\n",
    "        Si aplicar la corrección de continuidad de Edwards.\n",
    "\n",
    "    alpha : float, optional (default=0.05)\n",
    "        Nivel de significancia para la interpretación.\n",
    "\n",
    "    Retorna:\n",
    "    --------\n",
    "    dict\n",
    "        Diccionario con los resultados:\n",
    "        - 'statistic': Valor del estadístico.\n",
    "        - 'pvalue': Valor-p bilateral.\n",
    "        - 'significant': True si pvalue < alpha.\n",
    "        - 'interpretation': Explicación en lenguaje natural.\n",
    "    \"\"\"\n",
    "    # Validar la tabla de entrada\n",
    "    table = np.asarray(table)\n",
    "    if table.shape != (2, 2):\n",
    "        raise ValueError(\"La tabla debe ser de 2x2.\")\n",
    "    \n",
    "    B = table[0, 1]  # Método 1 gana\n",
    "    C = table[1, 0]  # Método 2 gana\n",
    "    \n",
    "    # Calcular el estadístico con/sin corrección\n",
    "    if correction:\n",
    "        statistic = (abs(B - C) - 1)**2 / (B + C)\n",
    "    else:\n",
    "        statistic = (B - C)**2 / (B + C)\n",
    "    \n",
    "    # Calcular el valor-p (distribución chi-cuadrado con 1 gl)\n",
    "    pvalue = 1 - chi2.cdf(statistic, df=1)\n",
    "    \n",
    "    # Interpretación\n",
    "    total_discordant = B + C\n",
    "    if total_discordant == 0:\n",
    "        interpretation = \"No hay casos discordantes (todos son empates).\"\n",
    "    else:\n",
    "        winner = \"Método 1\" if B > C else \"Método 2\"\n",
    "        percent_diff = 100 * abs(B - C) / total_discordant\n",
    "        interpretation = (\n",
    "            f\"Preferencia por {winner} ({percent_diff:.1f}% de diferencia en casos discordantes). \"\n",
    "            f\"La diferencia {'es' if pvalue < alpha else 'no es'} estadísticamente significativa.\"\n",
    "        )\n",
    "    \n",
    "    return {\n",
    "        'statistic': statistic,\n",
    "        'pvalue': pvalue,\n",
    "        'significant': pvalue < alpha,\n",
    "        'interpretation': interpretation\n",
    "    }"
   ]
  },
  {
   "cell_type": "code",
   "execution_count": 14,
   "id": "aaa70fb6",
   "metadata": {},
   "outputs": [
    {
     "name": "stdout",
     "output_type": "stream",
     "text": [
      "Estadístico de McNemar: 2.0833\n",
      "Valor-p: 0.1489\n",
      "Interpretación: Preferencia por Método 1 (50.0% de diferencia en casos discordantes). La diferencia no es estadísticamente significativa.\n"
     ]
    }
   ],
   "source": [
    "# Tabla de contingencia:\n",
    "#                  | Gaussian No Gana | Gaussian Gana |\n",
    "# -----------------------------------------------\n",
    "# Thresholding Gana |        9        |       0       |\n",
    "# Thresholding No Gana |       18       |       3       |\n",
    "\n",
    "# Nota: Reorganizamos para que las discordancias estén en B y C.\n",
    "table = np.array([\n",
    "    [9,  0],  # Thresholding gana (pero Gaussian no)\n",
    "    [18, 3]   # Thresholding no gana (pero Gaussian sí en 3 casos)\n",
    "])\n",
    "\n",
    "# Llamar a la función\n",
    "result = mcnemar_test(table[:, [1, 0]], correction=True)  # Reordenamos columnas para discordancias\n",
    "\n",
    "print(f\"Estadístico de McNemar: {result['statistic']:.4f}\")\n",
    "print(f\"Valor-p: {result['pvalue']:.4f}\")\n",
    "print(f\"Interpretación: {result['interpretation']}\")"
   ]
  }
 ],
 "metadata": {
  "kernelspec": {
   "display_name": ".env",
   "language": "python",
   "name": "python3"
  },
  "language_info": {
   "codemirror_mode": {
    "name": "ipython",
    "version": 3
   },
   "file_extension": ".py",
   "mimetype": "text/x-python",
   "name": "python",
   "nbconvert_exporter": "python",
   "pygments_lexer": "ipython3",
   "version": "3.13.2"
  }
 },
 "nbformat": 4,
 "nbformat_minor": 5
}
