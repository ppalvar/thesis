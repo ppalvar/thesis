{
 "cells": [
  {
   "cell_type": "markdown",
   "id": "2fa79b58",
   "metadata": {},
   "source": [
    "# Analysis on the synchrosqueezed transform of an image\n",
    "\n",
    "This code will cover:\n",
    "\n",
    "- Loading and preprocessing CT scan data  \n",
    "- Applying a series of image processing experiments  \n",
    "- Computing and serializing evaluation metrics  \n",
    "- Saving experiment results for further analysis"
   ]
  },
  {
   "cell_type": "markdown",
   "id": "39304c8c",
   "metadata": {},
   "source": [
    "## Setup"
   ]
  },
  {
   "cell_type": "code",
   "execution_count": null,
   "id": "472171f4",
   "metadata": {},
   "outputs": [],
   "source": [
    "import logging\n",
    "import sys\n",
    "\n",
    "from src.image_utils import load_nii, get_nii_as_list\n",
    "\n",
    "from src.experiments.exp_config import experiments\n",
    "from src.metrics import run_experiments_and_metrics, serialize_metrics\n",
    "from src.metrics.metrics_config import metrics\n"
   ]
  },
  {
   "cell_type": "code",
   "execution_count": null,
   "id": "8376d0d7",
   "metadata": {},
   "outputs": [],
   "source": [
    "log = logging.getLogger()\n",
    "log.setLevel(logging.INFO)\n",
    "\n",
    "if not log.handlers:\n",
    "    console_handler = logging.StreamHandler(sys.stdout)\n",
    "    console_handler.setLevel(logging.INFO)\n",
    "    formatter = logging.Formatter(\"%(asctime)s - %(levelname)s - %(message)s\")\n",
    "    console_handler.setFormatter(formatter)\n",
    "    log.addHandler(console_handler)"
   ]
  },
  {
   "cell_type": "code",
   "execution_count": null,
   "id": "486e62fb",
   "metadata": {},
   "outputs": [
    {
     "ename": "",
     "evalue": "",
     "output_type": "error",
     "traceback": [
      "\u001b[1;31mThe Kernel crashed while executing code in the current cell or a previous cell. \n",
      "\u001b[1;31mPlease review the code in the cell(s) to identify a possible cause of the failure. \n",
      "\u001b[1;31mClick <a href='https://aka.ms/vscodeJupyterKernelCrash'>here</a> for more info. \n",
      "\u001b[1;31mView Jupyter <a href='command:jupyter.viewOutput'>log</a> for further details."
     ]
    }
   ],
   "source": [
    "file = \"datasets/computed-tomography/computed-tomography-images-for-intracranial-hemorrhage-detection-and-segmentation-1.3.1/ct_scans/066.nii\"\n",
    "\n",
    "data = load_nii(file)\n",
    "data = get_nii_as_list(data)"
   ]
  },
  {
   "cell_type": "markdown",
   "id": "3c5b406f",
   "metadata": {},
   "source": [
    "## Run Experiments"
   ]
  },
  {
   "cell_type": "code",
   "execution_count": null,
   "id": "d279b646",
   "metadata": {},
   "outputs": [],
   "source": [
    "result = run_experiments_and_metrics(data, experiments, metrics)"
   ]
  },
  {
   "cell_type": "markdown",
   "id": "97f95cc8",
   "metadata": {},
   "source": [
    "## Save results"
   ]
  },
  {
   "cell_type": "code",
   "execution_count": null,
   "id": "611b7517",
   "metadata": {},
   "outputs": [],
   "source": [
    "json_str = serialize_metrics(result)\n",
    "with open(\"exp_out/out.json\", \"w\") as f:\n",
    "    f.write(json_str)"
   ]
  }
 ],
 "metadata": {
  "kernelspec": {
   "display_name": ".env",
   "language": "python",
   "name": "python3"
  },
  "language_info": {
   "codemirror_mode": {
    "name": "ipython",
    "version": 3
   },
   "file_extension": ".py",
   "mimetype": "text/x-python",
   "name": "python",
   "nbconvert_exporter": "python",
   "pygments_lexer": "ipython3",
   "version": "3.13.2"
  }
 },
 "nbformat": 4,
 "nbformat_minor": 5
}
